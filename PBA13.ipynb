{
 "cells": [
  {
   "cell_type": "raw",
   "id": "3ccb2839",
   "metadata": {},
   "source": [
    "1. What advantages do Excel spreadsheets have over CSV spreadsheets?\n",
    "ANS- We can perform various operations on data in excel but no in csv.\n",
    "Excel can store more complex data.\n",
    "No distinction between data type in csv"
   ]
  },
  {
   "cell_type": "raw",
   "id": "72f9c470",
   "metadata": {},
   "source": [
    "2.What do you pass to csv.reader() and csv.writer() to create reader and writer objects?\n",
    "ANS- import csv\n",
    "In csv.reader() we pass file and dialect.\n",
    "In csv.writer() we pass fileobj and dialect."
   ]
  },
  {
   "cell_type": "raw",
   "id": "8494612f",
   "metadata": {},
   "source": [
    "3. What modes do File objects for reader and writer objects need to be opened in?\n",
    "ANS- for reader object we open file in read mode 'r'\n",
    "and for writer object we open file in write mode 'w'."
   ]
  },
  {
   "cell_type": "raw",
   "id": "3559d495",
   "metadata": {},
   "source": [
    "4. What method takes a list argument and writes it to a CSV file?\n",
    "ANS- use writerow() method for list argument in csv file.\n"
   ]
  },
  {
   "cell_type": "raw",
   "id": "b2806a59",
   "metadata": {},
   "source": [
    "5. What do the keyword arguments delimiter and line terminator do?\n",
    "ANS- firstname, lastname, age\n",
    "rushikesh, pokale, 22\n",
    "manish, pokale, 25\n",
    "\n",
    "here ',' is delimiter we can use any character as per our needs.\n",
    "line terminator comes at end of line by default it is newline and can be changed accourding to requirement."
   ]
  },
  {
   "cell_type": "raw",
   "id": "3b2a637c",
   "metadata": {},
   "source": [
    "6. What function takes a string of JSON data and returns a Python data structure?\n",
    "ANS- dumps() function convert json data into python data structure. "
   ]
  },
  {
   "cell_type": "code",
   "execution_count": null,
   "id": "2c03eb78",
   "metadata": {},
   "outputs": [],
   "source": [
    "7. What function takes a Python data structure and returns a string of JSON data?\n",
    "ANS- loads() function converts python data structure and returns a string of json data."
   ]
  }
 ],
 "metadata": {
  "kernelspec": {
   "display_name": "Python 3 (ipykernel)",
   "language": "python",
   "name": "python3"
  },
  "language_info": {
   "codemirror_mode": {
    "name": "ipython",
    "version": 3
   },
   "file_extension": ".py",
   "mimetype": "text/x-python",
   "name": "python",
   "nbconvert_exporter": "python",
   "pygments_lexer": "ipython3",
   "version": "3.9.7"
  }
 },
 "nbformat": 4,
 "nbformat_minor": 5
}
